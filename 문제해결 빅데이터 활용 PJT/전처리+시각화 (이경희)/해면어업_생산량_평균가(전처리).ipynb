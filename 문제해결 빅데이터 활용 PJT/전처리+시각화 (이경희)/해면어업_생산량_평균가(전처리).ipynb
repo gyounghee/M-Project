{
  "cells": [
    {
      "cell_type": "code",
      "execution_count": null,
      "metadata": {
        "id": "8NhXDaQlBLTT"
      },
      "outputs": [],
      "source": [
        "import pandas as pd"
      ]
    },
    {
      "cell_type": "markdown",
      "source": [
        "# 광어"
      ],
      "metadata": {
        "id": "9DCY7BytHcDO"
      }
    },
    {
      "cell_type": "code",
      "execution_count": null,
      "metadata": {
        "id": "lDHE_E24Blfv"
      },
      "outputs": [],
      "source": [
        "# 해면어업 광어 생산량\n",
        "ff_production = pd.read_csv('/content/drive/MyDrive/멀티캠퍼스/2조/이경희/행정구역별 해면어업 넙치류 생산량.csv')"
      ]
    },
    {
      "cell_type": "code",
      "execution_count": null,
      "metadata": {
        "id": "ats2kOmoB-u7",
        "outputId": "78381284-4dba-4917-a4e9-5212b326b951",
        "colab": {
          "base_uri": "https://localhost:8080/"
        }
      },
      "outputs": [
        {
          "output_type": "execute_result",
          "data": {
            "text/plain": [
              "0"
            ]
          },
          "metadata": {},
          "execution_count": 139
        }
      ],
      "source": [
        "ff_production.isna().sum().sum() # 결측치 확인"
      ]
    },
    {
      "cell_type": "code",
      "execution_count": null,
      "metadata": {
        "colab": {
          "base_uri": "https://localhost:8080/"
        },
        "id": "if5TEkacGW2c",
        "outputId": "bb799c37-8618-465d-d4b5-d1f5c32edcc0"
      },
      "outputs": [
        {
          "output_type": "execute_result",
          "data": {
            "text/plain": [
              "array(['부산광역시', '인천광역시', '울산광역시', '경기도', '강원도', '충청남도', '전라북도', '전라남도',\n",
              "       '경상북도', '경상남도', '제주도'], dtype=object)"
            ]
          },
          "metadata": {},
          "execution_count": 140
        }
      ],
      "source": [
        "ff_production['행정구역별'].values"
      ]
    },
    {
      "cell_type": "code",
      "execution_count": null,
      "metadata": {
        "id": "RqMVGjJ3Ms_Y"
      },
      "outputs": [],
      "source": [
        "# 컬럼명 재정의 \n",
        "for y in range(3):\n",
        "  for m in range(1,10) :\n",
        "    old_col = ff_production.columns[12*y+m]\n",
        "    new_col = ff_production.columns[12*y+m].replace(\" \",\"\").replace(f\"{2019+y}.0{m}월\",f\"{2019+y}.{m}\") \n",
        "    ff_production.rename(columns = {old_col:new_col}, inplace =True) \n",
        "# ff_production.columns[1].replace(\" \",\"\").replace(f\"{2018+1}.0{str(1)}월\",f\"{2018+1}년.{str(1)}\") \n",
        "  for m in range(10,13):\n",
        "    old_col = ff_production.columns[12*y+m]\n",
        "    new_col = ff_production.columns[12*y+m].replace(\" \",\"\").replace(\"월\",\"\").replace(\"년\",\"\")\n",
        "    ff_production.rename(columns = {old_col:new_col}, inplace =True) "
      ]
    },
    {
      "cell_type": "markdown",
      "metadata": {
        "id": "1yO6NzZADzzg"
      },
      "source": [
        "1. 생산량data의 행정구역이 총 11개로 구분되어있고, 우리가 보고자 하는 곳에서 경기도와 제주도에 해당되는 곳 없음   \n",
        "  → '경기도'와 '제주도' row 제거  \n",
        "2. 평균가 data에서 각 행정구역에 해당하는 지역별로 합쳐서 평균내어 계산 \n",
        "  → 그럼 생산량 data와 같은 형태로 9개의 행정구역으로 구분됨  \n",
        "3. 생산량 data가 월별로 나타나 있으니까 평균가 data도 월별로 평균내서 생산량 data와 형식 맞춤\n",
        "\n",
        "4. 준비된 데이터로 관계분석  \n",
        "\n",
        "---------------------------------------------------------------------------\n",
        "* 부산광역시 - '부산시'\n",
        "* 인천광역시 - '인천'\n",
        "* 울산광역시 - '울산' \n",
        "* 경기도 - \n",
        "* 강원도 -  '삼척', '강릉시', '속초시', '동해시'\n",
        "* 충청남도 - '서산', '안면도', '대천서부', '서천서부',\n",
        "* 전라북도 - '군산시',\n",
        "* 전라남도 - '목포', '전남서부어류양식', '고흥군', '여수',\n",
        "* 경상북도 - '포항',\n",
        "* 경상남도 - '남해군', '통영', '거제',\n",
        "* 제주도 - "
      ]
    },
    {
      "cell_type": "markdown",
      "metadata": {
        "id": "3QCdcuOzGRYg"
      },
      "source": [
        "생산량 data에서 '경기도'와 '제주도' row 제거  "
      ]
    },
    {
      "cell_type": "code",
      "execution_count": null,
      "metadata": {
        "id": "823IPbpaGlot"
      },
      "outputs": [],
      "source": [
        "ff_production.drop([3,10], axis=0, inplace=True)\n",
        "ff_production.reset_index(drop=True, inplace=True)"
      ]
    },
    {
      "cell_type": "markdown",
      "metadata": {
        "id": "4AMh3n-SHHR8"
      },
      "source": [
        " 평균가 data에서 각 행정구역에 해당하는 지역별 월별 평균냄   \n",
        "  → 그럼 생산량 data와 같은 형태로 9개의 행정구역으로 구분됨  "
      ]
    },
    {
      "cell_type": "code",
      "execution_count": null,
      "metadata": {
        "id": "uq27zaUuCdFQ"
      },
      "outputs": [],
      "source": [
        "# 우선 광어의 생산량과 가격을 비교할 것이기 때문에 광어만 뽑아서 저장함\n",
        "df = pd.read_csv('/content/drive/MyDrive/멀티캠퍼스/2조/이경희/수산물_위판정보_전처리완료.csv')\n",
        "ff_df = df[df['수산물표준코드명'] == '광어']\n",
        "ff_df.reset_index(drop=True, inplace=True)"
      ]
    },
    {
      "cell_type": "code",
      "execution_count": null,
      "metadata": {
        "id": "hnhpUViIDTCK"
      },
      "outputs": [],
      "source": [
        "# 월별 평균가를 넣은 df형식을 생산량df 형태와 동일하도록 복사해옴\n",
        "from copy import deepcopy\n",
        "ff_price = deepcopy(ff_production)\n",
        "ff_price.set_index('행정구역별',inplace=True)\n",
        "\n",
        "# ff_price 의 모든 값을 0으로 초기화\n",
        "for row in range(len(ff_price)):\n",
        "  for col in range(len(ff_price.columns)):\n",
        "    ff_price.iloc[row,col] = 0"
      ]
    },
    {
      "cell_type": "code",
      "execution_count": null,
      "metadata": {
        "id": "k6-VleaOMUuL",
        "colab": {
          "base_uri": "https://localhost:8080/"
        },
        "outputId": "f78c3f2e-06a6-44e4-9a66-9f393c15532c"
      },
      "outputs": [
        {
          "output_type": "stream",
          "name": "stderr",
          "text": [
            "/usr/local/lib/python3.7/dist-packages/pandas/core/indexing.py:1817: SettingWithCopyWarning: \n",
            "A value is trying to be set on a copy of a slice from a DataFrame.\n",
            "Try using .loc[row_indexer,col_indexer] = value instead\n",
            "\n",
            "See the caveats in the documentation: https://pandas.pydata.org/pandas-docs/stable/user_guide/indexing.html#returning-a-view-versus-a-copy\n",
            "  self._setitem_single_column(loc, value, pi)\n"
          ]
        }
      ],
      "source": [
        "# 위판일자 값 수정\n",
        "for row in range(len(ff_df)):\n",
        "  ff_df.loc[row, '위판일자'] = ff_df.loc[row, '위판일자'].replace('-0','-')"
      ]
    },
    {
      "cell_type": "markdown",
      "source": [
        "이것도 \n",
        "ex)  ff_df를 보면 분명 2019년 3월 강원도에 속하는 지역들의 평균가 값들이 많이 나와있지만   \n",
        "ff_price 데이터프레임에 2019.3월 강원도의 값이 대체가 안 되어 있음\n"
      ],
      "metadata": {
        "id": "Q7IUTmygfMA2"
      }
    },
    {
      "cell_type": "code",
      "execution_count": null,
      "metadata": {
        "id": "XhWY0OvmaHXA"
      },
      "outputs": [],
      "source": [
        "# 각 행정구역에 해당하는 지역별로 평균내기\n",
        "for y in range(3):  \n",
        "  for m in range(1,13) :  \n",
        "    Busan, Incheon, Ulsan, Gangwon, Chungnam, Jeonbuk, Jeonnam, Gyeongbuk, Gyeongnam = [], [], [], [], [], [], [], [], []\n",
        "    for d in range(1,32): \n",
        "      for row in range(len(ff_df)):\n",
        "        if ff_df.loc[row,'산지조합명'] == '부산시' and ff_df.loc[row,'위판일자'] == f'{2019+y}-{m}-{d}' : Busan.append(ff_df.loc[row,'평균가'])\n",
        "        elif ff_df.loc[row,'산지조합명'] == '인천' and ff_df.loc[row,'위판일자'] == f'{2019+y}-{m}-{d}' : Incheon.append(ff_df.loc[row,'평균가'])\n",
        "        elif ff_df.loc[row,'산지조합명'] == '울산' and ff_df.loc[row,'위판일자'] == f'{2019+y}-{m}-{d}' : Ulsan.append(ff_df.loc[row,'평균가'])\n",
        "        elif (ff_df.loc[row,'산지조합명'] == '삼척' or ff_df.loc[row,'산지조합명'] == '강릉시' or ff_df.loc[row,'산지조합명'] == '속초시' or ff_df.loc[row,'산지조합명'] == '동해시') and ff_df.loc[row,'위판일자'] == f'{2019+y}-{m}-{d}' : Gangwon.append(ff_df.loc[row,'평균가'])\n",
        "        elif (ff_df.loc[row,'산지조합명'] == '서산' or ff_df.loc[row,'산지조합명'] == '안면도' or ff_df.loc[row,'산지조합명'] == '대천서부' or ff_df.loc[row,'산지조합명'] == '서천서부') and ff_df.loc[row,'위판일자'] == f'{2019+y}-{m}-{d}' : Chungnam.append(ff_df.loc[row,'평균가'])\n",
        "        elif ff_df.loc[row,'산지조합명'] == '군산시' and ff_df.loc[row,'위판일자'] == f'{2019+y}-{m}-{d}' : Jeonbuk.append(ff_df.loc[row,'평균가'])\n",
        "        elif (ff_df.loc[row,'산지조합명'] == '삼척' or ff_df.loc[row,'산지조합명'] == '목포' or ff_df.loc[row,'산지조합명'] == '전남서부어류양식' or ff_df.loc[row,'산지조합명'] == '고흥군' or ff_df.loc[row,'산지조합명'] == '여수') and ff_df.loc[row,'위판일자'] == f'{2019+y}-{m}-{d}' : Jeonnam.append(ff_df.loc[row,'평균가'])\n",
        "        elif ff_df.loc[row,'산지조합명'] == '포항' and ff_df.loc[row,'위판일자'] == f'{2019+y}-{m}-{d}' : Gyeongbuk.append(ff_df.loc[row,'평균가'])\n",
        "        elif (ff_df.loc[row,'산지조합명'] == '남해군' or ff_df.loc[row,'산지조합명'] == '통영' or ff_df.loc[row,'산지조합명'] == '거제') and ff_df.loc[row,'위판일자'] == f'{2019+y}-{m}-{d}' : Gyeongnam.append(ff_df.loc[row,'평균가'])\n",
        "    try : ff_price.loc['부산광역시',f'{2019+y}.{m}'] = round(sum(Busan)/len(Busan), 1)\n",
        "    except : pass\n",
        "    try : ff_price.loc['인천광역시',f'{2019+y}.{m}'] = round(sum(Incheon)/len(Incheon), 1)\n",
        "    except : pass\n",
        "    try : ff_price.loc['울산광역시',f'{2019+y}.{m}'] = round(sum(Ulsan)/len(Ulsan), 1)\n",
        "    except : pass\n",
        "    try : ff_price.loc['강원도',f'{2019+y}.{m}'] = round(sum(Gangwon)/len(Gangwon), 1)\n",
        "    except : pass\n",
        "    try : ff_price.loc['충청남도',f'{2019+y}.{m}'] = round(sum(Chungnam)/len(Chungnam), 1)\n",
        "    except : pass\n",
        "    try : ff_price.loc['전라북도',f'{2019+y}.{m}'] = round(sum(Jeonbuk)/len(Jeonbuk), 1)\n",
        "    except : pass\n",
        "    try : ff_price.loc['전라남도',f'{2019+y}.{m}'] = round(sum(Jeonnam)/len(Jeonnam), 1)\n",
        "    except : pass\n",
        "    try : ff_price.loc['경상북도',f'{2019+y}.{m}'] = round(sum(Gyeongbuk)/len(Gyeongbuk), 1)\n",
        "    except : pass\n",
        "    try : ff_price.loc['경상남도',f'{2019+y}.{m}'] = round(sum(Gyeongnam)/len(Gyeongnam), 1)\n",
        "    except : pass"
      ]
    },
    {
      "cell_type": "code",
      "execution_count": null,
      "metadata": {
        "id": "PEB9FNeig3qL"
      },
      "outputs": [],
      "source": [
        "# 행정구역별_월별_광어_평균가\n",
        "# pd.DataFrame(ff_price).to_csv('/content/drive/MyDrive/멀티캠퍼스/2조/이경희/상관관계 분석 data/행정구역별_평균가_광어(해면어업).csv', index=False)"
      ]
    },
    {
      "cell_type": "code",
      "execution_count": null,
      "metadata": {
        "id": "jl4JfA_7fdQy"
      },
      "outputs": [],
      "source": [
        "# ff_price  "
      ]
    },
    {
      "cell_type": "markdown",
      "source": [
        "# 방어"
      ],
      "metadata": {
        "id": "L24DVFJ6H9PG"
      }
    },
    {
      "cell_type": "code",
      "execution_count": null,
      "metadata": {
        "id": "60UNdpTDH9PN"
      },
      "outputs": [],
      "source": [
        "# 해면어업 방어 생산량 \n",
        "yellowtail_production = pd.read_csv('/content/drive/MyDrive/멀티캠퍼스/2조/이경희/행정구역별 해면어업 방어류 생산량.csv')"
      ]
    },
    {
      "cell_type": "code",
      "execution_count": null,
      "metadata": {
        "colab": {
          "base_uri": "https://localhost:8080/"
        },
        "id": "YCrkoQFyH9PO",
        "outputId": "84d932b9-6913-4dfa-c3e8-f2ddf689454d"
      },
      "outputs": [
        {
          "output_type": "execute_result",
          "data": {
            "text/plain": [
              "0"
            ]
          },
          "metadata": {},
          "execution_count": 4
        }
      ],
      "source": [
        "yellowtail_production.isna().sum().sum() # 결측치 확인"
      ]
    },
    {
      "cell_type": "code",
      "execution_count": null,
      "metadata": {
        "colab": {
          "base_uri": "https://localhost:8080/"
        },
        "outputId": "d0f12a0a-3d6a-48c1-ccce-0560aec15153",
        "id": "h4GTTOmRH9PO"
      },
      "outputs": [
        {
          "output_type": "execute_result",
          "data": {
            "text/plain": [
              "array(['부산광역시', '인천광역시', '울산광역시', '강원도', '충청남도', '전라북도', '전라남도', '경상북도',\n",
              "       '경상남도', '제주도'], dtype=object)"
            ]
          },
          "metadata": {},
          "execution_count": 5
        }
      ],
      "source": [
        "yellowtail_production['행정구역별'].values"
      ]
    },
    {
      "cell_type": "code",
      "execution_count": null,
      "metadata": {
        "id": "9MbWIARZH9PO"
      },
      "outputs": [],
      "source": [
        "# 컬럼명 재정의 \n",
        "for y in range(3):\n",
        "  for m in range(1,10) :\n",
        "    old_col = yellowtail_production.columns[12*y+m]\n",
        "    new_col = yellowtail_production.columns[12*y+m].replace(\" \",\"\").replace(f\"{2019+y}.0{m}월\",f\"{2019+y}.{m}\") \n",
        "    yellowtail_production.rename(columns = {old_col:new_col}, inplace =True) \n",
        "# yellowtail_production.columns[1].replace(\" \",\"\").replace(f\"{2018+1}.0{str(1)}월\",f\"{2018+1}년.{str(1)}\") \n",
        "  for m in range(10,13):\n",
        "    old_col = yellowtail_production.columns[12*y+m]\n",
        "    new_col = yellowtail_production.columns[12*y+m].replace(\" \",\"\").replace(\"월\",\"\").replace(\"년\",\"\")\n",
        "    yellowtail_production.rename(columns = {old_col:new_col}, inplace =True) "
      ]
    },
    {
      "cell_type": "code",
      "source": [
        "# yellowtail_production"
      ],
      "metadata": {
        "id": "j9fBN7rEIw_v"
      },
      "execution_count": null,
      "outputs": []
    },
    {
      "cell_type": "markdown",
      "metadata": {
        "id": "eEyBYvSwH9PO"
      },
      "source": [
        "생산량 data에서 '경기도'와 '제주도' row 제거  \n",
        "\n",
        "* 생산량data의 행정구역이 총 1개로 구분되어있고, 우리가 보고자 하는 곳에서 제주도에 해당되는 곳 없음  \n",
        "→ '제주도' row 제거"
      ]
    },
    {
      "cell_type": "code",
      "execution_count": null,
      "metadata": {
        "id": "oIsew4tRH9PO"
      },
      "outputs": [],
      "source": [
        "yellowtail_production.drop([9], axis=0, inplace=True)"
      ]
    },
    {
      "cell_type": "code",
      "source": [
        "len(yellowtail_production['행정구역별'].values)"
      ],
      "metadata": {
        "id": "VOgci7yaJEuT",
        "colab": {
          "base_uri": "https://localhost:8080/"
        },
        "outputId": "23a83014-ad45-43a1-80e5-0734a42ee447"
      },
      "execution_count": null,
      "outputs": [
        {
          "output_type": "execute_result",
          "data": {
            "text/plain": [
              "9"
            ]
          },
          "metadata": {},
          "execution_count": 9
        }
      ]
    },
    {
      "cell_type": "markdown",
      "metadata": {
        "id": "mTpMhb0tH9PP"
      },
      "source": [
        "평균가 data에서 각 행정구역에 해당하는 지역별 월별 평균냄   \n",
        "  → 그럼 생산량 data와 같은 형태로 9개의 행정구역으로 구분됨  "
      ]
    },
    {
      "cell_type": "code",
      "execution_count": null,
      "metadata": {
        "id": "QccM1wQ4H9PP"
      },
      "outputs": [],
      "source": [
        "df = pd.read_csv('/content/drive/MyDrive/멀티캠퍼스/2조/이경희/수산물_위판정보_전처리완료.csv')\n",
        "yellowtail_df = df[df['수산물표준코드명'] == '방어']\n",
        "yellowtail_df.reset_index(drop=True, inplace=True)"
      ]
    },
    {
      "cell_type": "code",
      "execution_count": null,
      "metadata": {
        "id": "WQAqhZjVH9PP"
      },
      "outputs": [],
      "source": [
        "# 월별 평균가를 넣은 df형식을 생산량df 형태와 동일하도록 복사해옴\n",
        "from copy import deepcopy\n",
        "yellowtail_price = deepcopy(yellowtail_production)\n",
        "yellowtail_price.set_index('행정구역별',inplace=True)\n",
        "\n",
        "# yellowtail_price 의 모든 값을 0으로 초기화\n",
        "for row in range(len(yellowtail_price)):\n",
        "  for col in range(len(yellowtail_price.columns)):\n",
        "    yellowtail_price.iloc[row,col] = 0"
      ]
    },
    {
      "cell_type": "code",
      "execution_count": null,
      "metadata": {
        "colab": {
          "base_uri": "https://localhost:8080/"
        },
        "outputId": "801f0757-763a-4ea3-abfa-95b4dcc0126a",
        "id": "YUgZlpDrH9PP"
      },
      "outputs": [
        {
          "output_type": "stream",
          "name": "stderr",
          "text": [
            "/usr/local/lib/python3.7/dist-packages/pandas/core/indexing.py:1817: SettingWithCopyWarning: \n",
            "A value is trying to be set on a copy of a slice from a DataFrame.\n",
            "Try using .loc[row_indexer,col_indexer] = value instead\n",
            "\n",
            "See the caveats in the documentation: https://pandas.pydata.org/pandas-docs/stable/user_guide/indexing.html#returning-a-view-versus-a-copy\n",
            "  self._setitem_single_column(loc, value, pi)\n"
          ]
        }
      ],
      "source": [
        "for row in range(len(yellowtail_df)):\n",
        "  yellowtail_df.loc[row, '위판일자'] = yellowtail_df.loc[row, '위판일자'].replace('-0','-')"
      ]
    },
    {
      "cell_type": "code",
      "execution_count": null,
      "metadata": {
        "id": "13MZQ3SMH9PP"
      },
      "outputs": [],
      "source": [
        "# 각 행정구역에 해당하는 지역별로 평균내기\n",
        "for y in range(3): \n",
        "  for m in range(1,13) :   \n",
        "    Busan, Incheon, Ulsan, Gangwon, Chungnam, Jeonbuk, Jeonnam, Gyeongbuk, Gyeongnam = [], [], [], [], [], [], [], [], []\n",
        "    for d in range(1,32): \n",
        "      for row in range(len(yellowtail_df)):\n",
        "        if yellowtail_df.loc[row,'산지조합명'] == '부산시' and yellowtail_df.loc[row,'위판일자'] == f'{2019+y}-{m}-{d}' : Busan.append(yellowtail_df.loc[row,'평균가'])\n",
        "        if yellowtail_df.loc[row,'산지조합명'] == '인천' and yellowtail_df.loc[row,'위판일자'] == f'{2019+y}-{m}-{d}' : Incheon.append(yellowtail_df.loc[row,'평균가'])\n",
        "        if yellowtail_df.loc[row,'산지조합명'] == '울산' and yellowtail_df.loc[row,'위판일자'] == f'{2019+y}-{m}-{d}' : Ulsan.append(yellowtail_df.loc[row,'평균가'])\n",
        "        if (yellowtail_df.loc[row,'산지조합명'] == '삼척' or yellowtail_df.loc[row,'산지조합명'] == '강릉시' or yellowtail_df.loc[row,'산지조합명'] == '속초시' or yellowtail_df.loc[row,'산지조합명'] == '동해시') and yellowtail_df.loc[row,'위판일자'] == f'{2019+y}-{m}-{d}' : Gangwon.append(yellowtail_df.loc[row,'평균가'])\n",
        "        if (yellowtail_df.loc[row,'산지조합명'] == '서산' or yellowtail_df.loc[row,'산지조합명'] == '안면도' or yellowtail_df.loc[row,'산지조합명'] == '대천서부' or yellowtail_df.loc[row,'산지조합명'] == '서천서부') and yellowtail_df.loc[row,'위판일자'] == f'{2019+y}-{m}-{d}' : Chungnam.append(yellowtail_df.loc[row,'평균가'])\n",
        "        if yellowtail_df.loc[row,'산지조합명'] == '군산시' and yellowtail_df.loc[row,'위판일자'] == f'{2019+y}-{m}-{d}' : Jeonbuk.append(yellowtail_df.loc[row,'평균가'])\n",
        "        if (yellowtail_df.loc[row,'산지조합명'] == '삼척' or yellowtail_df.loc[row,'산지조합명'] == '목포' or yellowtail_df.loc[row,'산지조합명'] == '전남서부어류양식' or yellowtail_df.loc[row,'산지조합명'] == '고흥군' or yellowtail_df.loc[row,'산지조합명'] == '여수') and yellowtail_df.loc[row,'위판일자'] == f'{2019+y}-{m}-{d}' : Jeonnam.append(yellowtail_df.loc[row,'평균가'])\n",
        "        if yellowtail_df.loc[row,'산지조합명'] == '포항' and yellowtail_df.loc[row,'위판일자'] == f'{2019+y}-{m}-{d}' : Gyeongbuk.append(yellowtail_df.loc[row,'평균가'])\n",
        "        if (yellowtail_df.loc[row,'산지조합명'] == '남해군' or yellowtail_df.loc[row,'산지조합명'] == '통영' or yellowtail_df.loc[row,'산지조합명'] == '거제') and yellowtail_df.loc[row,'위판일자'] == f'{2019+y}-{m}-{d}' : Gyeongnam.append(yellowtail_df.loc[row,'평균가']  \n",
        "    try : yellowtail_price.loc['부산광역시',f'{2019+y}.{m}'] = round(sum(Busan)/len(Busan), 2)\n",
        "    except : pass\n",
        "    try : yellowtail_price.loc['인천광역시',f'{2019+y}.{m}'] = round(sum(Incheon)/len(Incheon), 2)\n",
        "    except : pass\n",
        "    try : yellowtail_price.loc['울산광역시',f'{2019+y}.{m}'] = round(sum(Ulsan)/len(Ulsan), 2)\n",
        "    except : pass\n",
        "    try : yellowtail_price.loc['강원도',f'{2019+y}.{m}'] = round(sum(Gangwon)/len(Gangwon), 2)\n",
        "    except : pass\n",
        "    try : yellowtail_price.loc['충청남도',f'{2019+y}.{m}'] = round(sum(Chungnam)/len(Chungnam), 2)\n",
        "    except : pass\n",
        "    try : yellowtail_price.loc['전라북도',f'{2019+y}.{m}'] = round(sum(Jeonbuk)/len(Jeonbuk), 2)\n",
        "    except : pass\n",
        "    try : yellowtail_price.loc['전라남도',f'{2019+y}.{m}'] = round(sum(Jeonnam)/len(Jeonnam), 2)\n",
        "    except : pass\n",
        "    try : yellowtail_price.loc['경상북도',f'{2019+y}.{m}'] = round(sum(Gyeongbuk)/len(Gyeongbuk), 2)\n",
        "    except : pass\n",
        "    try : yellowtail_price.loc['경상남도',f'{2019+y}.{m}'] = round(sum(Gyeongnam)/len(Gyeongnam), 2)\n",
        "    except : pass"
      ]
    },
    {
      "cell_type": "code",
      "execution_count": null,
      "metadata": {
        "id": "9JZnU8b_H9PP"
      },
      "outputs": [],
      "source": [
        "# 행정구역별_월별_방어_평균가\n",
        "# pd.DataFrame(yellowtail_price).to_csv('/content/drive/MyDrive/멀티캠퍼스/2조/이경희/상관관계 분석 data/행정구역별_평균가_방어(해면어업).csv',index=False)"
      ]
    },
    {
      "cell_type": "code",
      "source": [
        "# yellowtail_price"
      ],
      "metadata": {
        "id": "LxeH_184T9Wi"
      },
      "execution_count": null,
      "outputs": []
    },
    {
      "cell_type": "markdown",
      "source": [
        "# 감성돔"
      ],
      "metadata": {
        "id": "KW8W_6XgJx7S"
      }
    },
    {
      "cell_type": "code",
      "execution_count": null,
      "metadata": {
        "id": "Bruh9BR3Jx7S"
      },
      "outputs": [],
      "source": [
        "# 해면어업 감성돔 생산량 \n",
        "black_porgy_production = pd.read_csv('/content/drive/MyDrive/멀티캠퍼스/2조/이경희/행정구역별 해면어업 감성돔 생산량.csv')"
      ]
    },
    {
      "cell_type": "code",
      "execution_count": null,
      "metadata": {
        "colab": {
          "base_uri": "https://localhost:8080/"
        },
        "outputId": "a42fde62-c2eb-49cc-ea14-70bc3ea86fbd",
        "id": "6q-WthxEJx7T"
      },
      "outputs": [
        {
          "output_type": "execute_result",
          "data": {
            "text/plain": [
              "0"
            ]
          },
          "metadata": {},
          "execution_count": 124
        }
      ],
      "source": [
        "black_porgy_production.isna().sum().sum()"
      ]
    },
    {
      "cell_type": "code",
      "execution_count": null,
      "metadata": {
        "colab": {
          "base_uri": "https://localhost:8080/"
        },
        "outputId": "e1e0e464-7833-4c6f-afb3-87a93d742b0e",
        "id": "s8wyKbT3Jx7T"
      },
      "outputs": [
        {
          "output_type": "execute_result",
          "data": {
            "text/plain": [
              "array(['부산광역시', '인천광역시', '울산광역시', '경기도', '강원도', '충청남도', '전라북도', '전라남도',\n",
              "       '경상북도', '경상남도', '제주도'], dtype=object)"
            ]
          },
          "metadata": {},
          "execution_count": 125
        }
      ],
      "source": [
        "black_porgy_production['행정구역별'].values"
      ]
    },
    {
      "cell_type": "code",
      "execution_count": null,
      "metadata": {
        "id": "56Cregc0Jx7T"
      },
      "outputs": [],
      "source": [
        "# 컬럼명 재정의 \n",
        "for y in range(3):\n",
        "  for m in range(1,10) :\n",
        "    old_col = black_porgy_production.columns[12*y+m]\n",
        "    new_col = black_porgy_production.columns[12*y+m].replace(\" \",\"\").replace(f\"{2019+y}.0{m}월\",f\"{2019+y}.{m}\") \n",
        "    black_porgy_production.rename(columns = {old_col:new_col}, inplace =True) \n",
        "# black_porgy_production.columns[1].replace(\" \",\"\").replace(f\"{2018+1}.0{str(1)}월\",f\"{2018+1}년.{str(1)}\") \n",
        "  for m in range(10,13):\n",
        "    old_col = black_porgy_production.columns[12*y+m]\n",
        "    new_col = black_porgy_production.columns[12*y+m].replace(\" \",\"\").replace(\"월\",\"\").replace(\"년\",\"\")\n",
        "    black_porgy_production.rename(columns = {old_col:new_col}, inplace =True) "
      ]
    },
    {
      "cell_type": "code",
      "source": [
        "# black_porgy_production"
      ],
      "metadata": {
        "id": "u3k8pjeKJx7U"
      },
      "execution_count": null,
      "outputs": []
    },
    {
      "cell_type": "markdown",
      "metadata": {
        "id": "FssTa_UNJx7U"
      },
      "source": [
        "생산량 data에서 '경기도'와 '제주도' row 제거\n",
        "\n",
        "* 생산량data의 행정구역이 총 1개로 구분되어있고, 우리가 보고자 하는 곳에서 제주도에 해당되는 곳 없음  \n",
        "→ '제주도' row 제거"
      ]
    },
    {
      "cell_type": "code",
      "execution_count": null,
      "metadata": {
        "id": "yLFIeOKiJx7U"
      },
      "outputs": [],
      "source": [
        "black_porgy_production.drop([3,10], axis=0, inplace=True)\n",
        "black_porgy_production.reset_index(drop=True, inplace=True)"
      ]
    },
    {
      "cell_type": "code",
      "source": [
        "# len(black_porgy_production['행정구역별'].values)"
      ],
      "metadata": {
        "id": "cwY3uYqDyzXK"
      },
      "execution_count": null,
      "outputs": []
    },
    {
      "cell_type": "code",
      "source": [
        "# black_porgy_production"
      ],
      "metadata": {
        "id": "_7UfFHhrJx7U"
      },
      "execution_count": null,
      "outputs": []
    },
    {
      "cell_type": "markdown",
      "metadata": {
        "id": "Gp8xQFpRJx7U"
      },
      "source": [
        "평균가 data에서 각 행정구역에 해당하는 지역별 월별 평균냄 \n",
        "  → 그럼 생산량 data와 같은 형태로 9개의 행정구역으로 구분됨  "
      ]
    },
    {
      "cell_type": "code",
      "execution_count": null,
      "metadata": {
        "id": "pC0DYkj2Jx7U"
      },
      "outputs": [],
      "source": [
        "df = pd.read_csv('/content/drive/MyDrive/멀티캠퍼스/2조/이경희/수산물_위판정보_전처리완료.csv')\n",
        "black_porgy_df = df[df['수산물표준코드명'] == '감성돔']\n",
        "black_porgy_df.reset_index(drop=True, inplace=True)"
      ]
    },
    {
      "cell_type": "code",
      "execution_count": null,
      "metadata": {
        "id": "GCZ3mIY4Jx7U"
      },
      "outputs": [],
      "source": [
        "# 월별 평균가를 넣은 df형식을 생산량df 형태와 동일하도록 복사해옴\n",
        "from copy import deepcopy\n",
        "black_porgy_price = deepcopy(black_porgy_production)\n",
        "black_porgy_price.set_index('행정구역별',inplace=True)\n",
        "\n",
        "# black_porgy_price 의 모든 값을 0으로 초기화\n",
        "for row in range(len(black_porgy_price)):\n",
        "  for col in range(len(black_porgy_price.columns)):\n",
        "    black_porgy_price.iloc[row,col] = 0"
      ]
    },
    {
      "cell_type": "code",
      "execution_count": null,
      "metadata": {
        "colab": {
          "base_uri": "https://localhost:8080/"
        },
        "outputId": "75fe006f-4106-45b9-a664-533c3d6103f8",
        "id": "qWWNK58lJx7U"
      },
      "outputs": [
        {
          "output_type": "stream",
          "name": "stderr",
          "text": [
            "/usr/local/lib/python3.7/dist-packages/pandas/core/indexing.py:1817: SettingWithCopyWarning: \n",
            "A value is trying to be set on a copy of a slice from a DataFrame.\n",
            "Try using .loc[row_indexer,col_indexer] = value instead\n",
            "\n",
            "See the caveats in the documentation: https://pandas.pydata.org/pandas-docs/stable/user_guide/indexing.html#returning-a-view-versus-a-copy\n",
            "  self._setitem_single_column(loc, value, pi)\n"
          ]
        }
      ],
      "source": [
        "for row in range(len(black_porgy_df)):\n",
        "  black_porgy_df.loc[row, '위판일자'] = black_porgy_df.loc[row, '위판일자'].replace('-0','-')"
      ]
    },
    {
      "cell_type": "code",
      "execution_count": null,
      "metadata": {
        "id": "hRlPta7fJx7V"
      },
      "outputs": [],
      "source": [
        "# 각 행정구역에 해당하는 지역별로 평균내기\n",
        "for y in range(3): \n",
        "  for m in range(1,13) :   \n",
        "    Busan, Incheon, Ulsan, Gangwon, Chungnam, Jeonbuk, Jeonnam, Gyeongbuk, Gyeongnam = [], [], [], [], [], [], [], [], []\n",
        "    for d in range(1,32): \n",
        "      for row in range(len(black_porgy_df)):\n",
        "        if black_porgy_df.loc[row,'산지조합명'] == '부산시' and black_porgy_df.loc[row,'위판일자'] == f'{2019+y}-{m}-{d}' : Busan.append(black_porgy_df.loc[row,'평균가'])\n",
        "        elif black_porgy_df.loc[row,'산지조합명'] == '인천' and black_porgy_df.loc[row,'위판일자'] == f'{2019+y}-{m}-{d}' : Incheon.append(black_porgy_df.loc[row,'평균가'])\n",
        "        elif black_porgy_df.loc[row,'산지조합명'] == '울산' and black_porgy_df.loc[row,'위판일자'] == f'{2019+y}-{m}-{d}' : Ulsan.append(black_porgy_df.loc[row,'평균가'])\n",
        "        elif (black_porgy_df.loc[row,'산지조합명'] == '삼척' or black_porgy_df.loc[row,'산지조합명'] == '강릉시' or black_porgy_df.loc[row,'산지조합명'] == '속초시' or black_porgy_df.loc[row,'산지조합명'] == '동해시') and black_porgy_df.loc[row,'위판일자'] == f'{2019+y}-{m}-{d}' : Gangwon.append(black_porgy_df.loc[row,'평균가'])\n",
        "        elif (black_porgy_df.loc[row,'산지조합명'] == '서산' or black_porgy_df.loc[row,'산지조합명'] == '안면도' or black_porgy_df.loc[row,'산지조합명'] == '대천서부' or black_porgy_df.loc[row,'산지조합명'] == '서천서부') and black_porgy_df.loc[row,'위판일자'] == f'{2019+y}-{m}-{d}' : Chungnam.append(black_porgy_df.loc[row,'평균가'])\n",
        "        elif black_porgy_df.loc[row,'산지조합명'] == '군산시' and black_porgy_df.loc[row,'위판일자'] == f'{2019+y}-{m}-{d}' : Jeonbuk.append(black_porgy_df.loc[row,'평균가'])\n",
        "        elif (black_porgy_df.loc[row,'산지조합명'] == '삼척' or black_porgy_df.loc[row,'산지조합명'] == '목포' or black_porgy_df.loc[row,'산지조합명'] == '전남서부어류양식' or black_porgy_df.loc[row,'산지조합명'] == '고흥군' or black_porgy_df.loc[row,'산지조합명'] == '여수') and black_porgy_df.loc[row,'위판일자'] == f'{2019+y}-{m}-{d}' : Jeonnam.append(black_porgy_df.loc[row,'평균가'])\n",
        "        elif black_porgy_df.loc[row,'산지조합명'] == '포항' and black_porgy_df.loc[row,'위판일자'] == f'{2019+y}-{m}-{d}' : Gyeongbuk.append(black_porgy_df.loc[row,'평균가'])\n",
        "        elif (black_porgy_df.loc[row,'산지조합명'] == '남해군' or black_porgy_df.loc[row,'산지조합명'] == '통영' or black_porgy_df.loc[row,'산지조합명'] == '거제') and black_porgy_df.loc[row,'위판일자'] == f'{2019+y}-{m}-{d}' : Gyeongnam.append(black_porgy_df.loc[row,'평균가'])\n",
        "    try : black_porgy_price.loc['부산광역시',f'{2019+y}.{m}'] = round(sum(Busan)/len(Busan), 1)\n",
        "    except : pass\n",
        "    try : black_porgy_price.loc['인천광역시',f'{2019+y}.{m}'] = round(sum(Incheon)/len(Incheon), 1)\n",
        "    except : pass\n",
        "    try : black_porgy_price.loc['울산광역시',f'{2019+y}.{m}'] = round(sum(Ulsan)/len(Ulsan), 1)\n",
        "    except : pass\n",
        "    try : black_porgy_price.loc['강원도',f'{2019+y}.{m}'] = round(sum(Gangwon)/len(Gangwon), 1)\n",
        "    except : pass\n",
        "    try : black_porgy_price.loc['충청남도',f'{2019+y}.{m}'] = round(sum(Chungnam)/len(Chungnam), 1)\n",
        "    except : pass\n",
        "    try : black_porgy_price.loc['전라북도',f'{2019+y}.{m}'] = round(sum(Jeonbuk)/len(Jeonbuk), 1)\n",
        "    except : pass\n",
        "    try : black_porgy_price.loc['전라남도',f'{2019+y}.{m}'] = round(sum(Jeonnam)/len(Jeonnam), 1)\n",
        "    except : pass\n",
        "    try : black_porgy_price.loc['경상북도',f'{2019+y}.{m}'] = round(sum(Gyeongbuk)/len(Gyeongbuk), 1)\n",
        "    except : pass\n",
        "    try : black_porgy_price.loc['경상남도',f'{2019+y}.{m}'] = round(sum(Gyeongnam)/len(Gyeongnam), 1)\n",
        "    except : pass"
      ]
    },
    {
      "cell_type": "code",
      "execution_count": null,
      "metadata": {
        "id": "f_AuuAyCJx7V"
      },
      "outputs": [],
      "source": [
        "# 행정구역별_월별_광어_평균가\n",
        "# pd.DataFrame(black_porgy_price).to_csv('/content/drive/MyDrive/멀티캠퍼스/2조/이경희/상관관계 분석 data/행정구역별_평균가_감성돔(해면어업).csv', index=False)"
      ]
    }
  ],
  "metadata": {
    "colab": {
      "name": "해면어업_생산량_평균가(전처리).ipynb",
      "provenance": [],
      "collapsed_sections": []
    },
    "kernelspec": {
      "display_name": "Python 3",
      "name": "python3"
    },
    "language_info": {
      "name": "python"
    }
  },
  "nbformat": 4,
  "nbformat_minor": 0
}