{
  "nbformat": 4,
  "nbformat_minor": 0,
  "metadata": {
    "colab": {
      "name": "작업.ipynb",
      "provenance": [],
      "collapsed_sections": [
        "Ci5ugY9d8co8"
      ]
    },
    "kernelspec": {
      "name": "python3",
      "display_name": "Python 3"
    },
    "language_info": {
      "name": "python"
    }
  },
  "cells": [
    {
      "cell_type": "code",
      "execution_count": null,
      "metadata": {
        "id": "g4Az3-aLlnc0"
      },
      "outputs": [],
      "source": [
        "# 네이버 api\n",
        "# client_id = '03Ot6xcYnNBa4svBYanw'\n",
        "# client_secret = 'ntgpcg4y8w'"
      ]
    },
    {
      "cell_type": "code",
      "source": [
        "# 사용한 라이브러리들\n",
        "import os\n",
        "import sys\n",
        "import urllib.request\n",
        "import json\n",
        "import pandas as pd\n",
        "from PIL import Image"
      ],
      "metadata": {
        "id": "FxaWWxOdmnma"
      },
      "execution_count": 3,
      "outputs": []
    },
    {
      "cell_type": "markdown",
      "source": [
        "## 네이버 크롤링"
      ],
      "metadata": {
        "id": "Ci5ugY9d8co8"
      }
    },
    {
      "cell_type": "code",
      "source": [
        "# ## naver open api 활용\n",
        "# import os\n",
        "# import sys\n",
        "# import urllib.request\n",
        "# import json\n",
        "# import pandas as pd\n",
        "\n",
        "# client_id = '03Ot6xcYnNBa4svBYanw'\n",
        "# client_secret = 'ntgpcg4y8w'\n",
        "\n",
        "# success = []\n",
        "# error = []\n",
        "\n",
        "# ## 네이버 open api 크롤링\n",
        "# for img in range(5):\n",
        "#     encText = urllib.parse.quote(\"말티즈 비만\")   # 검색어\n",
        "#     option = f\"&start={img*100+1}&display=100\"   # 최대 100개씩 밖에 안돼서 여러번 돌려야함\n",
        "#     url = \"https://openapi.naver.com/v1/search/image?query=\"+ encText + option\n",
        "\n",
        "#     request = urllib.request.Request(url)\n",
        "#     request.add_header(\"X-Naver-Client-Id\",client_id)\n",
        "#     request.add_header(\"X-Naver-Client-Secret\",client_secret)\n",
        "#     response = urllib.request.urlopen(request)\n",
        "#     rescode = response.getcode()\n",
        "\n",
        "#     # 이미지 저장 경로\n",
        "#     savePath = \"/content/drive/MyDrive/멀티캠퍼스/3조/Dog_Pic/원본/말티즈/\"\n",
        "\n",
        "\n",
        "#     if(rescode==200):\n",
        "#         response_body = response.read()\n",
        "#         result = json.loads(response_body)\n",
        "#         img_list = result['items']\n",
        "\n",
        "#         for i, img_list in enumerate(img_list, 1): \n",
        "#             # 이미지링크 확인\n",
        "#             print(img_list['link'])\n",
        "\n",
        "\n",
        "#             # 저장 파일명 및 경로\n",
        "#             FileName = os.path.join(savePath, str(img*100+i) + '.jpg')\n",
        "\n",
        "#             # 파일명 출력 \n",
        "#             print('full name : {}'.format(FileName))\n",
        "\n",
        "#             # 이미지 다운로드 URL 요청\n",
        "#             try : \n",
        "#                 urllib.request.urlretrieve(img_list['link'], FileName)\n",
        "#                 success.append(str(img*100+i))\n",
        "#             except : \n",
        "#                 error.append(str(img*100+i))\n",
        "\n",
        "#         # 다운로드 완료 시 출력\n",
        "#         print(\"--------download succeeded--------\")\n",
        "\n",
        "#     else:\n",
        "#         print(\"Error Code:\" + rescode)"
      ],
      "metadata": {
        "id": "0Ai2OTelvIkR"
      },
      "execution_count": null,
      "outputs": []
    },
    {
      "cell_type": "code",
      "source": [
        "# print(len(success))\n",
        "# len(error)"
      ],
      "metadata": {
        "id": "vRckx_2RxiXJ",
        "colab": {
          "base_uri": "https://localhost:8080/"
        },
        "outputId": "79d4a41e-6f44-4ab3-89f5-93c8e0293c0f"
      },
      "execution_count": null,
      "outputs": [
        {
          "output_type": "stream",
          "name": "stdout",
          "text": [
            "487\n"
          ]
        },
        {
          "output_type": "execute_result",
          "data": {
            "text/plain": [
              "13"
            ]
          },
          "metadata": {},
          "execution_count": 62
        }
      ]
    },
    {
      "cell_type": "markdown",
      "source": [
        "## DB명세 작성"
      ],
      "metadata": {
        "id": "grw0-u2oTiFi"
      }
    },
    {
      "cell_type": "markdown",
      "source": [
        "구글과 네이버, kaggle 등에서 뽑아온 자료로 DB명세 작성 →  csv파일로 변환하여 저장"
      ],
      "metadata": {
        "id": "Lm0sdq1V8g1M"
      }
    },
    {
      "cell_type": "code",
      "source": [
        "file_path_1 = '/content/drive/MyDrive/멀티캠퍼스/3조/Dog_Pic/학습할 이미지/리트리버_정상'\n",
        "file_list_1 = os.listdir(file_path_1)\n",
        "file_path_2 = '/content/drive/MyDrive/멀티캠퍼스/3조/Dog_Pic/학습할 이미지/리트리버_비만'\n",
        "file_list_2 = os.listdir(file_path_2)\n",
        "\n",
        "print(len(file_list_1))\n",
        "print(len(file_list_2))"
      ],
      "metadata": {
        "colab": {
          "base_uri": "https://localhost:8080/"
        },
        "id": "hYaOLIfno8_i",
        "outputId": "b1352fd3-20ab-4779-87bf-27c83b4245b0"
      },
      "execution_count": 4,
      "outputs": [
        {
          "output_type": "stream",
          "name": "stdout",
          "text": [
            "602\n",
            "405\n"
          ]
        }
      ]
    },
    {
      "cell_type": "code",
      "source": [
        "import os\n",
        "import pandas \n",
        "\n",
        "### 파일명 변경\n",
        "## 정상\n",
        "file_path_1 = '/content/drive/MyDrive/멀티캠퍼스/3조/Dog_Pic/학습할 이미지/리트리버_정상'\n",
        "file_list_1 = os.listdir(file_path_1)\n",
        "\n",
        "i = 0\n",
        "for fn in file_list_1:\n",
        "  i += 1\n",
        "  old_name_path = f'{file_path_1}/{fn}'\n",
        "  new_name_path = f'{file_path_1}/{i}.jpg'\n",
        "  os.rename(old_name_path, new_name_path)\n",
        "\n",
        "## 비만\n",
        "file_path_2 = '/content/drive/MyDrive/멀티캠퍼스/3조/Dog_Pic/학습할 이미지/리트리버_비만'\n",
        "file_list_2 = os.listdir(file_path_2)\n",
        "\n",
        "i = 0\n",
        "for fn in file_list_2:\n",
        "  i += 1\n",
        "  old_name_path = f'{file_path_2}/{fn}'\n",
        "  new_name_path = f'{file_path_2}/{i}.jpg'\n",
        "  os.rename(old_name_path, new_name_path)"
      ],
      "metadata": {
        "id": "XrR_FsdFVvzu"
      },
      "execution_count": 5,
      "outputs": []
    },
    {
      "cell_type": "code",
      "source": [
        "print(len(file_list_1))\n",
        "print(len(file_list_2))"
      ],
      "metadata": {
        "colab": {
          "base_uri": "https://localhost:8080/"
        },
        "id": "UWKXDqEQV1BY",
        "outputId": "b332b696-0ab2-4ec6-8610-3647918393dc"
      },
      "execution_count": 6,
      "outputs": [
        {
          "output_type": "stream",
          "name": "stdout",
          "text": [
            "602\n",
            "405\n"
          ]
        }
      ]
    },
    {
      "cell_type": "code",
      "source": [
        "import os\n",
        "from PIL import Image\n",
        "# 정상\n",
        "file_path_1 = '/content/drive/MyDrive/멀티캠퍼스/3조/Dog_Pic/학습할 이미지/리트리버_정상'\n",
        "file_list_1 = os.listdir(file_path_1)\n",
        "# 비만\n",
        "file_path_2 = '/content/drive/MyDrive/멀티캠퍼스/3조/Dog_Pic/학습할 이미지/리트리버_비만'\n",
        "file_list_2 = os.listdir(file_path_2)\n",
        "\n",
        "## 이미지 경로, 이미지 사이즈 \n",
        "data_path_1, data_path_2 = [], []\n",
        "img_size_1, img_size_2 = [], []\n",
        "for fn in  file_list_1:\n",
        "  img_size_1.append(Image.open(f'{file_path_1}/{fn}').size)\n",
        "  data_path_1.append(f'{file_path_1}/{fn}')\n",
        "\n",
        "for fn in  file_list_2:\n",
        "  img_size_2.append(Image.open(f'{file_path_2}/{fn}').size)\n",
        "  data_path_2.append(f'{file_path_2}/{fn}')"
      ],
      "metadata": {
        "id": "g2u-o2NkOCYz"
      },
      "execution_count": 7,
      "outputs": []
    },
    {
      "cell_type": "code",
      "source": [
        "# 날라간 파일이 없는지 한번 더 확인\n",
        "print(len(data_path_1))  \n",
        "print(len(data_path_2))"
      ],
      "metadata": {
        "colab": {
          "base_uri": "https://localhost:8080/"
        },
        "id": "6DyCLZWtAsmI",
        "outputId": "41320fb0-d3e9-46d1-9c32-d53b89f74914"
      },
      "execution_count": 8,
      "outputs": [
        {
          "output_type": "stream",
          "name": "stdout",
          "text": [
            "602\n",
            "405\n"
          ]
        }
      ]
    },
    {
      "cell_type": "code",
      "source": [
        "import pandas as pd\n",
        "### 정상\n",
        "# 이미지 사이즈 형식 변경 \n",
        "for i in range(len(img_size_1)):\n",
        "  img_size_1[i] = str(img_size_1[i]).replace('(','').replace(')','').replace(', ',' X ')\n",
        "\n",
        "retriever_df_1 = pd.DataFrame({'이미지 파일 경로':data_path_1,'이미지 크기':img_size_1})\n",
        "# retriever_df_1\n",
        "\n",
        "retriever_df_1['견종'] = '리트리버'\n",
        "retriever_df_1['강아지 크기'] = '중,대형견'\n",
        "retriever_df_1['비만'] = 0\n",
        "# retriever_df_1\n",
        "\n",
        "\n",
        "### 비만\n",
        "# 이미지 사이즈 형식 변경 \n",
        "for i in range(len(img_size_2)):\n",
        "  img_size_2[i] = str(img_size_2[i]).replace('(','').replace(')','').replace(', ',' X ')\n",
        "\n",
        "retriever_df_2 = pd.DataFrame({'이미지 파일 경로':data_path_2,'이미지 크기':img_size_2})\n",
        "# retriever_df_2\n",
        "\n",
        "retriever_df_2['견종'] = '리트리버'\n",
        "retriever_df_2['강아지 크기'] = '중,대형견'\n",
        "retriever_df_2['비만'] = 1\n",
        "# retriever_df_2\n",
        "\n",
        "## 두 df 병합\n",
        "retriever_DB = pd.concat([retriever_df_1,retriever_df_2]).reset_index(drop=True)\n",
        "retriever_DB\n",
        "\n",
        "\n",
        "## csv파일로 내보내기  \n",
        "# pd.DataFrame(retriever_DB).to_csv('/content/drive/MyDrive/멀티캠퍼스/3조/Dog_Pic/리트리버DB.csv', index=False)"
      ],
      "metadata": {
        "id": "cW7sYUMQZuB-"
      },
      "execution_count": 10,
      "outputs": []
    },
    {
      "cell_type": "markdown",
      "source": [
        "# DB 경로 수정요청 (재형님)\n",
        "- **요청사항 : 경로가 `/Dog_pic/~~` 이렇게 나오도록 수정**"
      ],
      "metadata": {
        "id": "76nKCz_YsVWT"
      }
    },
    {
      "cell_type": "code",
      "source": [
        "retriever_df = pd.read_csv('/content/drive/MyDrive/멀티캠퍼스/3조/Dog_Pic/리트리버DB.csv')\n",
        "retriever_df"
      ],
      "metadata": {
        "colab": {
          "base_uri": "https://localhost:8080/",
          "height": 423
        },
        "id": "Ml182NecskrS",
        "outputId": "c2943e0b-ae65-4d30-c498-c512d3b9d047"
      },
      "execution_count": 11,
      "outputs": [
        {
          "output_type": "execute_result",
          "data": {
            "text/plain": [
              "                                              이미지 파일 경로     이미지 크기    견종  \\\n",
              "0     /content/drive/MyDrive/멀티캠퍼스/3조/Dog_Pi...  398 X 337  리트리버   \n",
              "1     /content/drive/MyDrive/멀티캠퍼스/3조/Dog_Pi...  230 X 476  리트리버   \n",
              "2     /content/drive/MyDrive/멀티캠퍼스/3조/Dog_Pi...  139 X 275  리트리버   \n",
              "3     /content/drive/MyDrive/멀티캠퍼스/3조/Dog_Pi...  319 X 280  리트리버   \n",
              "4     /content/drive/MyDrive/멀티캠퍼스/3조/Dog_Pi...  247 X 465  리트리버   \n",
              "...                                                 ...        ...   ...   \n",
              "1002  /content/drive/MyDrive/멀티캠퍼스/3조/Dog_Pi...  167 X 113  리트리버   \n",
              "1003  /content/drive/MyDrive/멀티캠퍼스/3조/Dog_Pi...  173 X 116  리트리버   \n",
              "1004  /content/drive/MyDrive/멀티캠퍼스/3조/Dog_Pi...  164 X 105  리트리버   \n",
              "1005  /content/drive/MyDrive/멀티캠퍼스/3조/Dog_Pi...  164 X 118  리트리버   \n",
              "1006  /content/drive/MyDrive/멀티캠퍼스/3조/Dog_Pi...  138 X 102  리트리버   \n",
              "\n",
              "     강아지 크기  비만  \n",
              "0     중,대형견   0  \n",
              "1     중,대형견   0  \n",
              "2     중,대형견   0  \n",
              "3     중,대형견   0  \n",
              "4     중,대형견   0  \n",
              "...     ...  ..  \n",
              "1002  중,대형견   1  \n",
              "1003  중,대형견   1  \n",
              "1004  중,대형견   1  \n",
              "1005  중,대형견   1  \n",
              "1006  중,대형견   1  \n",
              "\n",
              "[1007 rows x 5 columns]"
            ],
            "text/html": [
              "\n",
              "  <div id=\"df-fd8d8a56-9561-4276-8856-7d140c3968ec\">\n",
              "    <div class=\"colab-df-container\">\n",
              "      <div>\n",
              "<style scoped>\n",
              "    .dataframe tbody tr th:only-of-type {\n",
              "        vertical-align: middle;\n",
              "    }\n",
              "\n",
              "    .dataframe tbody tr th {\n",
              "        vertical-align: top;\n",
              "    }\n",
              "\n",
              "    .dataframe thead th {\n",
              "        text-align: right;\n",
              "    }\n",
              "</style>\n",
              "<table border=\"1\" class=\"dataframe\">\n",
              "  <thead>\n",
              "    <tr style=\"text-align: right;\">\n",
              "      <th></th>\n",
              "      <th>이미지 파일 경로</th>\n",
              "      <th>이미지 크기</th>\n",
              "      <th>견종</th>\n",
              "      <th>강아지 크기</th>\n",
              "      <th>비만</th>\n",
              "    </tr>\n",
              "  </thead>\n",
              "  <tbody>\n",
              "    <tr>\n",
              "      <th>0</th>\n",
              "      <td>/content/drive/MyDrive/멀티캠퍼스/3조/Dog_Pi...</td>\n",
              "      <td>398 X 337</td>\n",
              "      <td>리트리버</td>\n",
              "      <td>중,대형견</td>\n",
              "      <td>0</td>\n",
              "    </tr>\n",
              "    <tr>\n",
              "      <th>1</th>\n",
              "      <td>/content/drive/MyDrive/멀티캠퍼스/3조/Dog_Pi...</td>\n",
              "      <td>230 X 476</td>\n",
              "      <td>리트리버</td>\n",
              "      <td>중,대형견</td>\n",
              "      <td>0</td>\n",
              "    </tr>\n",
              "    <tr>\n",
              "      <th>2</th>\n",
              "      <td>/content/drive/MyDrive/멀티캠퍼스/3조/Dog_Pi...</td>\n",
              "      <td>139 X 275</td>\n",
              "      <td>리트리버</td>\n",
              "      <td>중,대형견</td>\n",
              "      <td>0</td>\n",
              "    </tr>\n",
              "    <tr>\n",
              "      <th>3</th>\n",
              "      <td>/content/drive/MyDrive/멀티캠퍼스/3조/Dog_Pi...</td>\n",
              "      <td>319 X 280</td>\n",
              "      <td>리트리버</td>\n",
              "      <td>중,대형견</td>\n",
              "      <td>0</td>\n",
              "    </tr>\n",
              "    <tr>\n",
              "      <th>4</th>\n",
              "      <td>/content/drive/MyDrive/멀티캠퍼스/3조/Dog_Pi...</td>\n",
              "      <td>247 X 465</td>\n",
              "      <td>리트리버</td>\n",
              "      <td>중,대형견</td>\n",
              "      <td>0</td>\n",
              "    </tr>\n",
              "    <tr>\n",
              "      <th>...</th>\n",
              "      <td>...</td>\n",
              "      <td>...</td>\n",
              "      <td>...</td>\n",
              "      <td>...</td>\n",
              "      <td>...</td>\n",
              "    </tr>\n",
              "    <tr>\n",
              "      <th>1002</th>\n",
              "      <td>/content/drive/MyDrive/멀티캠퍼스/3조/Dog_Pi...</td>\n",
              "      <td>167 X 113</td>\n",
              "      <td>리트리버</td>\n",
              "      <td>중,대형견</td>\n",
              "      <td>1</td>\n",
              "    </tr>\n",
              "    <tr>\n",
              "      <th>1003</th>\n",
              "      <td>/content/drive/MyDrive/멀티캠퍼스/3조/Dog_Pi...</td>\n",
              "      <td>173 X 116</td>\n",
              "      <td>리트리버</td>\n",
              "      <td>중,대형견</td>\n",
              "      <td>1</td>\n",
              "    </tr>\n",
              "    <tr>\n",
              "      <th>1004</th>\n",
              "      <td>/content/drive/MyDrive/멀티캠퍼스/3조/Dog_Pi...</td>\n",
              "      <td>164 X 105</td>\n",
              "      <td>리트리버</td>\n",
              "      <td>중,대형견</td>\n",
              "      <td>1</td>\n",
              "    </tr>\n",
              "    <tr>\n",
              "      <th>1005</th>\n",
              "      <td>/content/drive/MyDrive/멀티캠퍼스/3조/Dog_Pi...</td>\n",
              "      <td>164 X 118</td>\n",
              "      <td>리트리버</td>\n",
              "      <td>중,대형견</td>\n",
              "      <td>1</td>\n",
              "    </tr>\n",
              "    <tr>\n",
              "      <th>1006</th>\n",
              "      <td>/content/drive/MyDrive/멀티캠퍼스/3조/Dog_Pi...</td>\n",
              "      <td>138 X 102</td>\n",
              "      <td>리트리버</td>\n",
              "      <td>중,대형견</td>\n",
              "      <td>1</td>\n",
              "    </tr>\n",
              "  </tbody>\n",
              "</table>\n",
              "<p>1007 rows × 5 columns</p>\n",
              "</div>\n",
              "      <button class=\"colab-df-convert\" onclick=\"convertToInteractive('df-fd8d8a56-9561-4276-8856-7d140c3968ec')\"\n",
              "              title=\"Convert this dataframe to an interactive table.\"\n",
              "              style=\"display:none;\">\n",
              "        \n",
              "  <svg xmlns=\"http://www.w3.org/2000/svg\" height=\"24px\"viewBox=\"0 0 24 24\"\n",
              "       width=\"24px\">\n",
              "    <path d=\"M0 0h24v24H0V0z\" fill=\"none\"/>\n",
              "    <path d=\"M18.56 5.44l.94 2.06.94-2.06 2.06-.94-2.06-.94-.94-2.06-.94 2.06-2.06.94zm-11 1L8.5 8.5l.94-2.06 2.06-.94-2.06-.94L8.5 2.5l-.94 2.06-2.06.94zm10 10l.94 2.06.94-2.06 2.06-.94-2.06-.94-.94-2.06-.94 2.06-2.06.94z\"/><path d=\"M17.41 7.96l-1.37-1.37c-.4-.4-.92-.59-1.43-.59-.52 0-1.04.2-1.43.59L10.3 9.45l-7.72 7.72c-.78.78-.78 2.05 0 2.83L4 21.41c.39.39.9.59 1.41.59.51 0 1.02-.2 1.41-.59l7.78-7.78 2.81-2.81c.8-.78.8-2.07 0-2.86zM5.41 20L4 18.59l7.72-7.72 1.47 1.35L5.41 20z\"/>\n",
              "  </svg>\n",
              "      </button>\n",
              "      \n",
              "  <style>\n",
              "    .colab-df-container {\n",
              "      display:flex;\n",
              "      flex-wrap:wrap;\n",
              "      gap: 12px;\n",
              "    }\n",
              "\n",
              "    .colab-df-convert {\n",
              "      background-color: #E8F0FE;\n",
              "      border: none;\n",
              "      border-radius: 50%;\n",
              "      cursor: pointer;\n",
              "      display: none;\n",
              "      fill: #1967D2;\n",
              "      height: 32px;\n",
              "      padding: 0 0 0 0;\n",
              "      width: 32px;\n",
              "    }\n",
              "\n",
              "    .colab-df-convert:hover {\n",
              "      background-color: #E2EBFA;\n",
              "      box-shadow: 0px 1px 2px rgba(60, 64, 67, 0.3), 0px 1px 3px 1px rgba(60, 64, 67, 0.15);\n",
              "      fill: #174EA6;\n",
              "    }\n",
              "\n",
              "    [theme=dark] .colab-df-convert {\n",
              "      background-color: #3B4455;\n",
              "      fill: #D2E3FC;\n",
              "    }\n",
              "\n",
              "    [theme=dark] .colab-df-convert:hover {\n",
              "      background-color: #434B5C;\n",
              "      box-shadow: 0px 1px 3px 1px rgba(0, 0, 0, 0.15);\n",
              "      filter: drop-shadow(0px 1px 2px rgba(0, 0, 0, 0.3));\n",
              "      fill: #FFFFFF;\n",
              "    }\n",
              "  </style>\n",
              "\n",
              "      <script>\n",
              "        const buttonEl =\n",
              "          document.querySelector('#df-fd8d8a56-9561-4276-8856-7d140c3968ec button.colab-df-convert');\n",
              "        buttonEl.style.display =\n",
              "          google.colab.kernel.accessAllowed ? 'block' : 'none';\n",
              "\n",
              "        async function convertToInteractive(key) {\n",
              "          const element = document.querySelector('#df-fd8d8a56-9561-4276-8856-7d140c3968ec');\n",
              "          const dataTable =\n",
              "            await google.colab.kernel.invokeFunction('convertToInteractive',\n",
              "                                                     [key], {});\n",
              "          if (!dataTable) return;\n",
              "\n",
              "          const docLinkHtml = 'Like what you see? Visit the ' +\n",
              "            '<a target=\"_blank\" href=https://colab.research.google.com/notebooks/data_table.ipynb>data table notebook</a>'\n",
              "            + ' to learn more about interactive tables.';\n",
              "          element.innerHTML = '';\n",
              "          dataTable['output_type'] = 'display_data';\n",
              "          await google.colab.output.renderOutput(dataTable, element);\n",
              "          const docLink = document.createElement('div');\n",
              "          docLink.innerHTML = docLinkHtml;\n",
              "          element.appendChild(docLink);\n",
              "        }\n",
              "      </script>\n",
              "    </div>\n",
              "  </div>\n",
              "  "
            ]
          },
          "metadata": {},
          "execution_count": 11
        }
      ]
    },
    {
      "cell_type": "code",
      "source": [
        "for row in range(len(retriever_df)):\n",
        "  retriever_df['이미지 파일 경로'][row] = retriever_df['이미지 파일 경로'][row].replace('/content/drive/MyDrive/멀티캠퍼스/3조/','/')"
      ],
      "metadata": {
        "colab": {
          "base_uri": "https://localhost:8080/"
        },
        "id": "hq78dzEatFrG",
        "outputId": "54a0aa7b-0e90-49d5-e9ee-edcd59956018"
      },
      "execution_count": 12,
      "outputs": [
        {
          "output_type": "stream",
          "name": "stderr",
          "text": [
            "/usr/local/lib/python3.7/dist-packages/ipykernel_launcher.py:2: SettingWithCopyWarning: \n",
            "A value is trying to be set on a copy of a slice from a DataFrame\n",
            "\n",
            "See the caveats in the documentation: https://pandas.pydata.org/pandas-docs/stable/user_guide/indexing.html#returning-a-view-versus-a-copy\n",
            "  \n"
          ]
        }
      ]
    },
    {
      "cell_type": "code",
      "source": [
        "retriever_df\n",
        "## 수정한 DataFrame을 csv파일로 변환\n",
        "# pd.DataFrame(retriever_df).to_csv('/content/drive/MyDrive/멀티캠퍼스/3조/Dog_Pic/리트리버DB.csv', index=False)"
      ],
      "metadata": {
        "colab": {
          "base_uri": "https://localhost:8080/",
          "height": 423
        },
        "id": "i9qk0BtPtYgi",
        "outputId": "572b2930-1376-4179-9bc4-6ce594af37c4"
      },
      "execution_count": 14,
      "outputs": [
        {
          "output_type": "execute_result",
          "data": {
            "text/plain": [
              "                                          이미지 파일 경로     이미지 크기    견종 강아지 크기  \\\n",
              "0       /Dog_Pic/학습할 이미지/리트리버_정상/1.jpg  398 X 337  리트리버  중,대형견   \n",
              "1       /Dog_Pic/학습할 이미지/리트리버_정상/2.jpg  230 X 476  리트리버  중,대형견   \n",
              "2       /Dog_Pic/학습할 이미지/리트리버_정상/3.jpg  139 X 275  리트리버  중,대형견   \n",
              "3       /Dog_Pic/학습할 이미지/리트리버_정상/4.jpg  319 X 280  리트리버  중,대형견   \n",
              "4       /Dog_Pic/학습할 이미지/리트리버_정상/5.jpg  247 X 465  리트리버  중,대형견   \n",
              "...                                             ...        ...   ...    ...   \n",
              "1002  /Dog_Pic/학습할 이미지/리트리버_비만/401.jpg  167 X 113  리트리버  중,대형견   \n",
              "1003  /Dog_Pic/학습할 이미지/리트리버_비만/402.jpg  173 X 116  리트리버  중,대형견   \n",
              "1004  /Dog_Pic/학습할 이미지/리트리버_비만/403.jpg  164 X 105  리트리버  중,대형견   \n",
              "1005  /Dog_Pic/학습할 이미지/리트리버_비만/404.jpg  164 X 118  리트리버  중,대형견   \n",
              "1006  /Dog_Pic/학습할 이미지/리트리버_비만/405.jpg  138 X 102  리트리버  중,대형견   \n",
              "\n",
              "      비만  \n",
              "0      0  \n",
              "1      0  \n",
              "2      0  \n",
              "3      0  \n",
              "4      0  \n",
              "...   ..  \n",
              "1002   1  \n",
              "1003   1  \n",
              "1004   1  \n",
              "1005   1  \n",
              "1006   1  \n",
              "\n",
              "[1007 rows x 5 columns]"
            ],
            "text/html": [
              "\n",
              "  <div id=\"df-d69f93ac-49a3-43a3-8dad-cf55ebfabb48\">\n",
              "    <div class=\"colab-df-container\">\n",
              "      <div>\n",
              "<style scoped>\n",
              "    .dataframe tbody tr th:only-of-type {\n",
              "        vertical-align: middle;\n",
              "    }\n",
              "\n",
              "    .dataframe tbody tr th {\n",
              "        vertical-align: top;\n",
              "    }\n",
              "\n",
              "    .dataframe thead th {\n",
              "        text-align: right;\n",
              "    }\n",
              "</style>\n",
              "<table border=\"1\" class=\"dataframe\">\n",
              "  <thead>\n",
              "    <tr style=\"text-align: right;\">\n",
              "      <th></th>\n",
              "      <th>이미지 파일 경로</th>\n",
              "      <th>이미지 크기</th>\n",
              "      <th>견종</th>\n",
              "      <th>강아지 크기</th>\n",
              "      <th>비만</th>\n",
              "    </tr>\n",
              "  </thead>\n",
              "  <tbody>\n",
              "    <tr>\n",
              "      <th>0</th>\n",
              "      <td>/Dog_Pic/학습할 이미지/리트리버_정상/1.jpg</td>\n",
              "      <td>398 X 337</td>\n",
              "      <td>리트리버</td>\n",
              "      <td>중,대형견</td>\n",
              "      <td>0</td>\n",
              "    </tr>\n",
              "    <tr>\n",
              "      <th>1</th>\n",
              "      <td>/Dog_Pic/학습할 이미지/리트리버_정상/2.jpg</td>\n",
              "      <td>230 X 476</td>\n",
              "      <td>리트리버</td>\n",
              "      <td>중,대형견</td>\n",
              "      <td>0</td>\n",
              "    </tr>\n",
              "    <tr>\n",
              "      <th>2</th>\n",
              "      <td>/Dog_Pic/학습할 이미지/리트리버_정상/3.jpg</td>\n",
              "      <td>139 X 275</td>\n",
              "      <td>리트리버</td>\n",
              "      <td>중,대형견</td>\n",
              "      <td>0</td>\n",
              "    </tr>\n",
              "    <tr>\n",
              "      <th>3</th>\n",
              "      <td>/Dog_Pic/학습할 이미지/리트리버_정상/4.jpg</td>\n",
              "      <td>319 X 280</td>\n",
              "      <td>리트리버</td>\n",
              "      <td>중,대형견</td>\n",
              "      <td>0</td>\n",
              "    </tr>\n",
              "    <tr>\n",
              "      <th>4</th>\n",
              "      <td>/Dog_Pic/학습할 이미지/리트리버_정상/5.jpg</td>\n",
              "      <td>247 X 465</td>\n",
              "      <td>리트리버</td>\n",
              "      <td>중,대형견</td>\n",
              "      <td>0</td>\n",
              "    </tr>\n",
              "    <tr>\n",
              "      <th>...</th>\n",
              "      <td>...</td>\n",
              "      <td>...</td>\n",
              "      <td>...</td>\n",
              "      <td>...</td>\n",
              "      <td>...</td>\n",
              "    </tr>\n",
              "    <tr>\n",
              "      <th>1002</th>\n",
              "      <td>/Dog_Pic/학습할 이미지/리트리버_비만/401.jpg</td>\n",
              "      <td>167 X 113</td>\n",
              "      <td>리트리버</td>\n",
              "      <td>중,대형견</td>\n",
              "      <td>1</td>\n",
              "    </tr>\n",
              "    <tr>\n",
              "      <th>1003</th>\n",
              "      <td>/Dog_Pic/학습할 이미지/리트리버_비만/402.jpg</td>\n",
              "      <td>173 X 116</td>\n",
              "      <td>리트리버</td>\n",
              "      <td>중,대형견</td>\n",
              "      <td>1</td>\n",
              "    </tr>\n",
              "    <tr>\n",
              "      <th>1004</th>\n",
              "      <td>/Dog_Pic/학습할 이미지/리트리버_비만/403.jpg</td>\n",
              "      <td>164 X 105</td>\n",
              "      <td>리트리버</td>\n",
              "      <td>중,대형견</td>\n",
              "      <td>1</td>\n",
              "    </tr>\n",
              "    <tr>\n",
              "      <th>1005</th>\n",
              "      <td>/Dog_Pic/학습할 이미지/리트리버_비만/404.jpg</td>\n",
              "      <td>164 X 118</td>\n",
              "      <td>리트리버</td>\n",
              "      <td>중,대형견</td>\n",
              "      <td>1</td>\n",
              "    </tr>\n",
              "    <tr>\n",
              "      <th>1006</th>\n",
              "      <td>/Dog_Pic/학습할 이미지/리트리버_비만/405.jpg</td>\n",
              "      <td>138 X 102</td>\n",
              "      <td>리트리버</td>\n",
              "      <td>중,대형견</td>\n",
              "      <td>1</td>\n",
              "    </tr>\n",
              "  </tbody>\n",
              "</table>\n",
              "<p>1007 rows × 5 columns</p>\n",
              "</div>\n",
              "      <button class=\"colab-df-convert\" onclick=\"convertToInteractive('df-d69f93ac-49a3-43a3-8dad-cf55ebfabb48')\"\n",
              "              title=\"Convert this dataframe to an interactive table.\"\n",
              "              style=\"display:none;\">\n",
              "        \n",
              "  <svg xmlns=\"http://www.w3.org/2000/svg\" height=\"24px\"viewBox=\"0 0 24 24\"\n",
              "       width=\"24px\">\n",
              "    <path d=\"M0 0h24v24H0V0z\" fill=\"none\"/>\n",
              "    <path d=\"M18.56 5.44l.94 2.06.94-2.06 2.06-.94-2.06-.94-.94-2.06-.94 2.06-2.06.94zm-11 1L8.5 8.5l.94-2.06 2.06-.94-2.06-.94L8.5 2.5l-.94 2.06-2.06.94zm10 10l.94 2.06.94-2.06 2.06-.94-2.06-.94-.94-2.06-.94 2.06-2.06.94z\"/><path d=\"M17.41 7.96l-1.37-1.37c-.4-.4-.92-.59-1.43-.59-.52 0-1.04.2-1.43.59L10.3 9.45l-7.72 7.72c-.78.78-.78 2.05 0 2.83L4 21.41c.39.39.9.59 1.41.59.51 0 1.02-.2 1.41-.59l7.78-7.78 2.81-2.81c.8-.78.8-2.07 0-2.86zM5.41 20L4 18.59l7.72-7.72 1.47 1.35L5.41 20z\"/>\n",
              "  </svg>\n",
              "      </button>\n",
              "      \n",
              "  <style>\n",
              "    .colab-df-container {\n",
              "      display:flex;\n",
              "      flex-wrap:wrap;\n",
              "      gap: 12px;\n",
              "    }\n",
              "\n",
              "    .colab-df-convert {\n",
              "      background-color: #E8F0FE;\n",
              "      border: none;\n",
              "      border-radius: 50%;\n",
              "      cursor: pointer;\n",
              "      display: none;\n",
              "      fill: #1967D2;\n",
              "      height: 32px;\n",
              "      padding: 0 0 0 0;\n",
              "      width: 32px;\n",
              "    }\n",
              "\n",
              "    .colab-df-convert:hover {\n",
              "      background-color: #E2EBFA;\n",
              "      box-shadow: 0px 1px 2px rgba(60, 64, 67, 0.3), 0px 1px 3px 1px rgba(60, 64, 67, 0.15);\n",
              "      fill: #174EA6;\n",
              "    }\n",
              "\n",
              "    [theme=dark] .colab-df-convert {\n",
              "      background-color: #3B4455;\n",
              "      fill: #D2E3FC;\n",
              "    }\n",
              "\n",
              "    [theme=dark] .colab-df-convert:hover {\n",
              "      background-color: #434B5C;\n",
              "      box-shadow: 0px 1px 3px 1px rgba(0, 0, 0, 0.15);\n",
              "      filter: drop-shadow(0px 1px 2px rgba(0, 0, 0, 0.3));\n",
              "      fill: #FFFFFF;\n",
              "    }\n",
              "  </style>\n",
              "\n",
              "      <script>\n",
              "        const buttonEl =\n",
              "          document.querySelector('#df-d69f93ac-49a3-43a3-8dad-cf55ebfabb48 button.colab-df-convert');\n",
              "        buttonEl.style.display =\n",
              "          google.colab.kernel.accessAllowed ? 'block' : 'none';\n",
              "\n",
              "        async function convertToInteractive(key) {\n",
              "          const element = document.querySelector('#df-d69f93ac-49a3-43a3-8dad-cf55ebfabb48');\n",
              "          const dataTable =\n",
              "            await google.colab.kernel.invokeFunction('convertToInteractive',\n",
              "                                                     [key], {});\n",
              "          if (!dataTable) return;\n",
              "\n",
              "          const docLinkHtml = 'Like what you see? Visit the ' +\n",
              "            '<a target=\"_blank\" href=https://colab.research.google.com/notebooks/data_table.ipynb>data table notebook</a>'\n",
              "            + ' to learn more about interactive tables.';\n",
              "          element.innerHTML = '';\n",
              "          dataTable['output_type'] = 'display_data';\n",
              "          await google.colab.output.renderOutput(dataTable, element);\n",
              "          const docLink = document.createElement('div');\n",
              "          docLink.innerHTML = docLinkHtml;\n",
              "          element.appendChild(docLink);\n",
              "        }\n",
              "      </script>\n",
              "    </div>\n",
              "  </div>\n",
              "  "
            ]
          },
          "metadata": {},
          "execution_count": 14
        }
      ]
    }
  ]
}